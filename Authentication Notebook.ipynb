{
 "cells": [
  {
   "metadata": {},
   "cell_type": "markdown",
   "source": [
    "## Add Your Environment Variables \n",
    "These variables can be set in a `.env` file in the same directory as this notebook. The file should look like this:\n",
    "\n",
    "```\n",
    "CLIENT_ID=your_client_id\n",
    "CLIENT_SECRET=your_client_secret\n",
    "```\n",
    "The other option is to set them as variables in your terminal.\n",
    "\n",
    "## The first cell of the notebook will load the environment variables and required modules and make them available to the notebook.\n",
    "\n",
    "Requirements can be found in the `requirements.txt` file in the same directory as this notebook."
   ],
   "id": "d640203436838e9c"
  },
  {
   "cell_type": "code",
   "id": "initial_id",
   "metadata": {
    "collapsed": true,
    "ExecuteTime": {
     "end_time": "2024-06-15T03:06:25.954910Z",
     "start_time": "2024-06-15T03:06:25.951612Z"
    }
   },
   "source": [
    "import requests\n",
    "from urllib.parse import urlencode\n",
    "from dotenv import load_dotenv\n",
    "import os\n",
    "\n",
    "load_dotenv()\n",
    "\n",
    "# # # Replace the following values with your actual API credentials # # #\n",
    "\n",
    "# Environment variables are used to keep your sensitive data safe\n",
    "CLIENT_ID = os.getenv(\"CLIENT_ID\")\n",
    "CLIENT_SECRET = os.getenv(\"CLIENT_SECRET\")\n",
    "\n",
    "# Local variables\n",
    "redirect_uri = \"https://www.matt-thacker.com/redirect\"\n",
    "scope = 'Full'\n"
   ],
   "outputs": [],
   "execution_count": 5
  },
  {
   "metadata": {},
   "cell_type": "markdown",
   "source": [
    "## OAuth2 Authentication\n",
    "\n",
    "The following code will walk you through the OAuth2 authentication process. \n",
    "\n",
    "The following cell block is the first step to authenticate with the Blackbaud SKY API.\n",
    "\n",
    "It produces a website that you should copy, paste, and visit in your browser. This will prompt you to log in and authorize the application to access your data."
   ],
   "id": "1e9ba61490de6696"
  },
  {
   "metadata": {
    "ExecuteTime": {
     "end_time": "2024-06-15T03:06:29.988305Z",
     "start_time": "2024-06-15T03:06:29.985455Z"
    }
   },
   "cell_type": "code",
   "source": [
    "# Step 1: Get the authorization URL\n",
    "authorization_url = 'https://oauth2.sky.blackbaud.com/authorization'\n",
    "params = {\n",
    "\t'response_type': 'code', ## DO NOT CHANGE\n",
    "\t'client_id': CLIENT_ID,  ## DO NOT CHANGE -> comes from the environment variables\n",
    "\t'redirect_uri': redirect_uri, ## DO NOT CHANGE -> comes from the local variables\n",
    "\t'scope': scope ## DO NOT CHANGE -> comes from the local variables\n",
    "}\n",
    "url = f'{authorization_url}?{urlencode(params)}'\n",
    "\n",
    "print(f'Please visit the following URL to authorize the application:\\n{url}')\n",
    "\n"
   ],
   "id": "671ee0d2a79c0c8b",
   "outputs": [
    {
     "name": "stdout",
     "output_type": "stream",
     "text": [
      "Please visit the following URL to authorize the application:\n",
      "https://oauth2.sky.blackbaud.com/authorization?response_type=code&client_id=7b1f9c28-90d9-49ee-a3a4-12c3db01ded5&redirect_uri=https%3A%2F%2Fwww.matt-thacker.com%2Fredirect&scope=Full\n"
     ]
    }
   ],
   "execution_count": 6
  },
  {
   "metadata": {},
   "cell_type": "markdown",
   "source": "## Copy the authorization code from the URL and paste it in the next cell to exchange it for an access token.",
   "id": "10e52f2997338d2b"
  },
  {
   "metadata": {
    "ExecuteTime": {
     "end_time": "2024-06-15T03:08:49.378583Z",
     "start_time": "2024-06-15T03:08:49.376013Z"
    }
   },
   "cell_type": "code",
   "source": [
    "# Step 2: Get the authorization code from the user\n",
    "auth_code = '3155d4457cab4a2dbd3c1179645b00d5'\n"
   ],
   "id": "3fbf60fb5fd9c36c",
   "outputs": [],
   "execution_count": 7
  },
  {
   "metadata": {},
   "cell_type": "markdown",
   "source": "## Exchange the authorization code for an access token",
   "id": "958a8480e5ca792"
  },
  {
   "metadata": {
    "ExecuteTime": {
     "end_time": "2024-06-15T03:10:26.717147Z",
     "start_time": "2024-06-15T03:10:26.153678Z"
    }
   },
   "cell_type": "code",
   "source": [
    "# Step 3: Exchange the authorization code for an access token\n",
    "token_url = 'https://oauth2.sky.blackbaud.com/token'\n",
    "payload = {\n",
    "\t'grant_type': 'authorization_code',\n",
    "\t'code': auth_code,\n",
    "\t'client_id': CLIENT_ID,\n",
    "\t'client_secret': CLIENT_SECRET,\n",
    "\t'redirect_uri': redirect_uri\n",
    "}\n",
    "response = requests.post(token_url, data=payload)\n",
    "response_data = response.json()\n",
    "\n",
    "if 'access_token' not in response_data:\n",
    "\tprint(f'Error: {response_data.get(\"error_description\")}')\n",
    "else:\n",
    "\taccess_token = response_data['access_token']\n",
    "\trefresh_token = response_data['refresh_token']\n",
    "\tprint(f'Access token: {access_token}\\nRefresh token: {refresh_token}')"
   ],
   "id": "771e295daa3bd4ec",
   "outputs": [
    {
     "name": "stdout",
     "output_type": "stream",
     "text": [
      "Access token: eyJhbGciOiJSUzI1NiIsImtpZCI6IjREVjZzVkxIM0FtU1JTbUZqMk04Wm5wWHU3WSIsInR5cCI6IkpXVCJ9.eyJhcHBsaWNhdGlvbmlkIjoiN2IxZjljMjgtOTBkOS00OWVlLWEzYTQtMTJjM2RiMDFkZWQ1IiwiZW52aXJvbm1lbnRpZCI6InAtdm5WQWJEdGZ1MEd5TXFTRG1HLV9xdyIsImVudmlyb25tZW50bmFtZSI6IlNLWSBEZXZlbG9wZXIgQ29ob3J0IEVudmlyb25tZW50IDEiLCJsZWdhbGVudGl0eWlkIjoicC1nVnFyX3lPU2tVcXNFS3RtLVpwSm5BIiwibGVnYWxlbnRpdHluYW1lIjoiU0tZIERldmVsb3BlciBDb2hvcnQiLCJtb2RlIjoiRnVsbCIsInpvbmUiOiJwLXVzYTAxIiwibmFtZWlkIjoiZDliZTZlY2YtOGFiNC00YjUxLThhYWMtZjNiYjQwOGE0NGNhIiwianRpIjoiZDI0ZDY4ZDItZDM4Yi00ZGVmLTk5YWEtOTM3NTMxY2FhMTdhIiwiZXhwIjoxNzE4NDI0NjI2LCJpYXQiOjE3MTg0MjEwMjYsImlzcyI6Imh0dHBzOi8vb2F1dGgyLnNreS5ibGFja2JhdWQuY29tLyIsImF1ZCI6ImJsYWNrYmF1ZCJ9.eb0aOmsGD7dIVtBLWbPMqsfmmhkEJZ6FYkTNbhTFYbQZxRu-KJt6vys-3yS3-NXvfI_0H7dTnGYP84AEz8q5ucn5gvjHWCmG27dqeYclhfamJm16UnSKEI1kuWO7rnrdagA-WN2JFCRvRAs0i2jQNyAkTRzLC6FUwZjA_ev-RKA_ErNJutG6JkitLeK-Ho6NnW3M_bN6-zl1AI9yz0NeTT2NdCppz3sHZ0e7cbCXVaGDUCoj2YVOCNDZZzpj4D1VFaxjNNuZl7gR0XEBHYgB2GsY4Z342fzee0dmiziAbZMiNG0Qf-bg4LpLF8uj1hYyoOHJEZgkPdwJN8A9jWfuow\n",
      "Refresh token: b1e504aa79e948d88c9ce18a0d830bda\n"
     ]
    }
   ],
   "execution_count": 8
  },
  {
   "metadata": {},
   "cell_type": "markdown",
   "source": [
    "## Refreshing the Access Token  \n",
    "- Access tokens expire 3600 seconds (60 mins) after they are issued\n",
    "- Refresh tokens expire 365 days after they are issued"
   ],
   "id": "586617d68eb2765b"
  },
  {
   "metadata": {},
   "cell_type": "code",
   "outputs": [],
   "execution_count": null,
   "source": [
    "def refresh_access_token(client_id, client_secret, refresh_token):\n",
    "    \"\"\"\n",
    "    Refreshes the access token using the given client ID, client secret, and refresh token.\n",
    "\n",
    "    :param client_id: The client ID provided by the OAuth2 provider.\n",
    "    :param client_secret: The client secret provided by the OAuth2 provider.\n",
    "    :param refresh_token: The refresh token obtained during the initial authentication.\n",
    "    :return: A dictionary containing the refreshed access token.\n",
    "    :raises Exception: If the request to refresh the access token fails.\n",
    "    \"\"\"\n",
    "\n",
    "\n",
    "    payload = {\n",
    "\t\t\"client_id\": client_id,\n",
    "\t\t\"client_secret\": client_secret,\n",
    "\t\t\"refresh_token\": refresh_token,\n",
    "\t\t\"grant_type\": \"refresh_token\"\n",
    "\t}\n",
    "\n",
    "    headers = {\n",
    "\t\t\"Content-Type\": \"application/x-www-form-urlencoded\"\n",
    "\t}\n",
    "\n",
    "    response = requests.post(token_url, data=payload, headers=headers)\n",
    "\n",
    "\n",
    "    if response.status_code == 200:\n",
    "        access_token = response.json()[\"access_token\"]\n",
    "        refresh_access_token = response.json()[\"refresh_token\"]\n",
    "        return {\n",
    "\t\t\t\"access_token\": access_token,\n",
    "\t\t\t\"refresh_token\": refresh_token\n",
    "\t\t}\n",
    "        return response.json()\n",
    "    else:\n",
    "\t\t# Handle error scenarios\n",
    "        raise Exception(f\"Failed to refresh access token: {response.text}\")\n",
    "\n",
    "try:\n",
    "\tnew_token_details = refresh_access_token(CLIENT_SECRET, CLIENT_SECRET, refresh_token)\n",
    "\tprint(\"New access token details:\", new_token_details)\n",
    "except Exception as e:\n",
    "\tprint(e)"
   ],
   "id": "b3af8cfb639d09f8"
  }
 ],
 "metadata": {
  "kernelspec": {
   "display_name": "Python 3",
   "language": "python",
   "name": "python3"
  },
  "language_info": {
   "codemirror_mode": {
    "name": "ipython",
    "version": 2
   },
   "file_extension": ".py",
   "mimetype": "text/x-python",
   "name": "python",
   "nbconvert_exporter": "python",
   "pygments_lexer": "ipython2",
   "version": "2.7.6"
  }
 },
 "nbformat": 4,
 "nbformat_minor": 5
}
